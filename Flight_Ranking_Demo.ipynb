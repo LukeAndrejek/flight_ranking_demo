{
 "cells": [
  {
   "cell_type": "code",
   "execution_count": null,
   "metadata": {
    "id": "7U-hK4ICljvk"
   },
   "outputs": [],
   "source": [
    "# Install libraries if necessary\n",
    "!pip install lightgbm\n",
    "!pip install matplotlib\n",
    "!pip install numpy\n",
    "!pip install pandas\n",
    "!pip install IPython"
   ]
  },
  {
   "cell_type": "code",
   "execution_count": null,
   "metadata": {},
   "outputs": [],
   "source": [
    "!pip install graphviz\n",
    "!pip install pygraphviz"
   ]
  },
  {
   "cell_type": "code",
   "execution_count": null,
   "metadata": {},
   "outputs": [],
   "source": [
    "import lightgbm as lgb\n",
    "import matplotlib.pyplot as plt\n",
    "import numpy as np\n",
    "import pandas as pd\n",
    "from IPython.display import display, Image"
   ]
  },
  {
   "cell_type": "code",
   "execution_count": null,
   "metadata": {},
   "outputs": [],
   "source": [
    "import graphviz\n",
    "import pygraphviz"
   ]
  },
  {
   "cell_type": "code",
   "execution_count": null,
   "metadata": {
    "colab": {
     "base_uri": "https://localhost:8080/",
     "height": 206
    },
    "id": "sHdpzdFlzEyC",
    "outputId": "2294364e-fff8-426c-9802-d8bf1c942494"
   },
   "outputs": [],
   "source": [
    "# Load data from my work github\n",
    "# load_file = 'https://raw.github.expedia.biz/landrejek/flight_ranking_demo/main/df_flights.csv?token=GHSAT0AAAAAAAAATMRA4RPOH6IYWLPGLXREZIGC2EQ'\n",
    "# Load data from my personal github\n",
    "# load_file = 'https://raw.githubusercontent.com/LukeAndrejek/flight_ranking_demo/main/df_flights.csv'\n",
    "# Load data from current folder\n",
    "load_file = 'df_flights.csv'\n",
    "\n",
    "df_flights = pd.read_csv(load_file)\n",
    "df_flights['carrier'] = df_flights['carrier'].astype('category')\n",
    "df_flights.tail()"
   ]
  },
  {
   "cell_type": "code",
   "execution_count": null,
   "metadata": {
    "colab": {
     "base_uri": "https://localhost:8080/",
     "height": 237
    },
    "id": "zEgfDGpjJM8V",
    "outputId": "7a9ea70f-9fbd-494e-cfbd-3663bb66d1c4"
   },
   "outputs": [],
   "source": [
    "# View the bookings of a particular user\n",
    "example_user_id = 336\n",
    "df_flights[(df_flights['user_id'] == example_user_id) & (df_flights['booked'] == 1)].sort_values(by=['day'])"
   ]
  },
  {
   "cell_type": "code",
   "execution_count": null,
   "metadata": {
    "id": "AqfvjlH92LOO"
   },
   "outputs": [],
   "source": [
    "# Prepare training data\n",
    "model_features = ['price', 'duration', 'layover_hours', 'legs', 'carrier', 'departure_hour', 'arrival_hour', 'recent_bookings_with_carrier']\n",
    "df_train = df_flights[df_flights['day'] > 7]\n",
    "X_train = df_train[model_features]\n",
    "y_train = df_train['booked']\n",
    "group_sizes_train = df_train.groupby('query_id', sort=False)['query_id'].count().to_numpy()"
   ]
  },
  {
   "cell_type": "code",
   "execution_count": null,
   "metadata": {
    "colab": {
     "base_uri": "https://localhost:8080/"
    },
    "id": "7CxrMwSB2wZL",
    "outputId": "91dc3957-792c-4d6b-ee1b-ac9371ee3bc7"
   },
   "outputs": [],
   "source": [
    "# Build model\n",
    "model = (\n",
    "    lgb.LGBMRanker(boosting_type = 'gbdt',\n",
    "                   objective = 'lambdarank',\n",
    "                   num_leaves = 10,\n",
    "                   seed = 42)\n",
    "    .fit(X=X_train,\n",
    "         y=y_train,\n",
    "         group=group_sizes_train)\n",
    ")"
   ]
  },
  {
   "cell_type": "code",
   "execution_count": null,
   "metadata": {},
   "outputs": [],
   "source": [
    "# Append model score to dataset\n",
    "df_flights_ranked = df_flights.copy(deep=True)\n",
    "scores = model.predict(df_flights[model_features])\n",
    "df_flights_ranked['score'] = scores"
   ]
  },
  {
   "cell_type": "code",
   "execution_count": null,
   "metadata": {},
   "outputs": [],
   "source": [
    "# Display the ranking of an example search\n",
    "df_flights_ranked[df_flights_ranked['query_id'] == 1000].sort_values('score', ascending=False)"
   ]
  },
  {
   "cell_type": "code",
   "execution_count": null,
   "metadata": {
    "colab": {
     "base_uri": "https://localhost:8080/",
     "height": 489
    },
    "id": "4eNp3qw85F9F",
    "outputId": "c88666b7-e181-494d-edb7-f6b99cb90508"
   },
   "outputs": [],
   "source": [
    "# Plot feature importances\n",
    "lgb.plot_importance(model, importance_type = 'split')"
   ]
  },
  {
   "cell_type": "code",
   "execution_count": null,
   "metadata": {},
   "outputs": [],
   "source": [
    "# Plot feature importances\n",
    "lgb.plot_importance(model, importance_type = 'gain')"
   ]
  },
  {
   "cell_type": "code",
   "execution_count": null,
   "metadata": {
    "colab": {
     "base_uri": "https://localhost:8080/",
     "height": 450
    },
    "id": "Zr8GdzhR5lp0",
    "outputId": "9733562a-afb2-4533-b627-58da8d16ab64"
   },
   "outputs": [],
   "source": [
    "# Plot impact of a particular feature on model score\n",
    "plot_offer_row_index = 0\n",
    "# Recall model_features = ['price', 'duration', 'layover_hours', 'legs', 'carrier', 'departure_hour', 'arrival_hour', 'recent_bookings_with_carrier']\n",
    "plot_feature_index = 0\n",
    "\n",
    "assert(df_train[model_features[plot_feature_index]].dtype != 'category')  # This code only plots numeric features\n",
    "\n",
    "# Prepare feature data\n",
    "model_features = model.feature_name_\n",
    "plot_offer_row = X_train.iloc[[plot_offer_row_index]]\n",
    "plot_feature =  model_features[plot_feature_index]\n",
    "if plot_feature_index in [0, 1, 3]:\n",
    "    max_x_value = 1\n",
    "else:\n",
    "    max_x_value = 24\n",
    "domain = np.linspace(0,max_x_value,20)\n",
    "\n",
    "# Plot result\n",
    "plt.plot(domain,[model.predict(plot_offer_row.assign(**{plot_feature:x})) for x in domain])\n",
    "plt.xlabel(plot_feature)\n",
    "plt.ylabel('model score')\n",
    "plt.grid(True)"
   ]
  },
  {
   "cell_type": "code",
   "execution_count": null,
   "metadata": {
    "colab": {
     "base_uri": "https://localhost:8080/",
     "height": 342
    },
    "id": "rWrBD5wO899V",
    "outputId": "4639589f-f319-4cd3-8ef6-ac6526403954"
   },
   "outputs": [],
   "source": [
    "# Plot a particular tree\n",
    "tree_index = 0  # Set value to 8 to view a tree featuring recent_bookings_with_carrier\n",
    "\n",
    "model_digraph = lgb.create_tree_digraph(model, tree_index=tree_index)\n",
    "model_digraph.format = 'png'\n",
    "png_path = model_digraph.render(filename='model_digraph')\n",
    "# display(Image(png_path))"
   ]
  },
  {
   "cell_type": "code",
   "execution_count": null,
   "metadata": {},
   "outputs": [],
   "source": []
  }
 ],
 "metadata": {
  "colab": {
   "provenance": []
  },
  "kernelspec": {
   "display_name": "Python 3",
   "language": "python",
   "name": "python3"
  },
  "language_info": {
   "codemirror_mode": {
    "name": "ipython",
    "version": 3
   },
   "file_extension": ".py",
   "mimetype": "text/x-python",
   "name": "python",
   "nbconvert_exporter": "python",
   "pygments_lexer": "ipython3",
   "version": "3.11.3"
  },
  "vscode": {
   "interpreter": {
    "hash": "aee8b7b246df8f9039afb4144a1f6fd8d2ca17a180786b69acc140d282b71a49"
   }
  }
 },
 "nbformat": 4,
 "nbformat_minor": 1
}
